{
 "cells": [
  {
   "cell_type": "markdown",
   "metadata": {},
   "source": [
    "# Aula Funções"
   ]
  },
  {
   "cell_type": "code",
   "execution_count": 1,
   "metadata": {},
   "outputs": [],
   "source": [
    "#Criar função\n",
    "\n",
    "def saudacao():\n",
    "    print('Bem vindo ao Senac')"
   ]
  },
  {
   "cell_type": "code",
   "execution_count": 2,
   "metadata": {},
   "outputs": [
    {
     "name": "stdout",
     "output_type": "stream",
     "text": [
      "Bem vindo ao Senac\n"
     ]
    }
   ],
   "source": [
    "saudacao()\n",
    "\n",
    "# em py seria print(saudacao())"
   ]
  },
  {
   "cell_type": "code",
   "execution_count": 3,
   "metadata": {},
   "outputs": [],
   "source": [
    "# Funçoes com parametro\n",
    "\n",
    "def saudacao_parametro(nom):\n",
    "    print(f'Bem vindo ao Senac, {nom}')\n"
   ]
  },
  {
   "cell_type": "code",
   "execution_count": 9,
   "metadata": {},
   "outputs": [
    {
     "name": "stdout",
     "output_type": "stream",
     "text": [
      "Bem vindo ao Senac, Leticya\n"
     ]
    }
   ],
   "source": [
    "nome = 'Leticya'\n",
    "saudacao_parametro(nome)"
   ]
  },
  {
   "cell_type": "code",
   "execution_count": 7,
   "metadata": {},
   "outputs": [],
   "source": [
    "# Funçoes com retorno (n é pra visualizar, é para guardar em uma terceira variavel)\n",
    "\n",
    "def soma(a, b):\n",
    "    return a + b # return devolve o resultado para o programa, quando precisa usar o valor depois "
   ]
  },
  {
   "cell_type": "code",
   "execution_count": 8,
   "metadata": {},
   "outputs": [
    {
     "name": "stdout",
     "output_type": "stream",
     "text": [
      "25\n"
     ]
    }
   ],
   "source": [
    "resultado = soma(10,15)\n",
    "print(resultado)"
   ]
  },
  {
   "cell_type": "markdown",
   "metadata": {},
   "source": [
    "# Atividade 1 - Soma de Pares"
   ]
  },
  {
   "cell_type": "code",
   "execution_count": 17,
   "metadata": {},
   "outputs": [],
   "source": [
    "# Criar um programa que leia 3 pares de números inteiros, calcule e imprima a soma de cada par separadamente. Utilize uma função para calcular a soma dos dois números\n",
    "\n",
    "def soma (a, b):\n",
    "    return a + b"
   ]
  },
  {
   "cell_type": "code",
   "execution_count": 18,
   "metadata": {},
   "outputs": [
    {
     "name": "stdout",
     "output_type": "stream",
     "text": [
      "A soma dos 3 pares separadamente são: \n",
      "\n",
      "5\n",
      "9\n",
      "13\n"
     ]
    }
   ],
   "source": [
    "n1 = int(input('Digite o primeiro número: '))\n",
    "n2 = int(input('Digite o segundo número: '))\n",
    "n3 = int(input('Digite o terceiro número: '))\n",
    "n4 = int(input('Digite o quarto número: '))\n",
    "n5 = int(input('Digite o quinto número: '))\n",
    "n6 = int(input('Digite o sexto número: '))\n",
    "\n",
    "resultado = soma(n1, n2)\n",
    "resultado2 = soma (n3, n4)\n",
    "resultado3 = soma(n5, n6)\n",
    "\n",
    "print (f'A soma dos 3 pares separadamente são: \\n')\n",
    "print(resultado)\n",
    "print(resultado2)\n",
    "print(resultado3)\n",
    "   \n",
    "\n",
    "\n",
    "\n"
   ]
  },
  {
   "cell_type": "markdown",
   "metadata": {},
   "source": [
    "# Crie uma função que receba a velocidade da via e a velocdade que o veiculo passou. Retorne ao cidadao o valor a ser pago"
   ]
  },
  {
   "cell_type": "code",
   "execution_count": 47,
   "metadata": {},
   "outputs": [],
   "source": [
    "def multa(via, veiculo):\n",
    "    \n",
    "    ate_10 = via * 1.1\n",
    "    ate_20 = via * 1.2\n",
    "    ate_30 = via * 1.3\n",
    "\n",
    "    if veiculo >= ate_10 and veiculo < ate_20:\n",
    "        print(f'Sua infração é leve, sua multa é de R$ 180,00')\n",
    "    \n",
    "    elif veiculo >= ate_20 and veiculo < ate_30:\n",
    "        print(f'Sua infração é média, sua multa é de R$ 340,56')\n",
    "    \n",
    "    elif veiculo < ate_10:\n",
    "        print('Você esta digindo na velocidade da via, está sem multa')\n",
    "    \n",
    "    else:\n",
    "        print(f'Sua infração é grave, sua multa é de R$ 480,98')"
   ]
  },
  {
   "cell_type": "code",
   "execution_count": 51,
   "metadata": {},
   "outputs": [
    {
     "name": "stdout",
     "output_type": "stream",
     "text": [
      "Sua infração é grave, sua multa é de R$ 480,98\n"
     ]
    }
   ],
   "source": [
    "multa(100,200)"
   ]
  },
  {
   "cell_type": "markdown",
   "metadata": {},
   "source": [
    "# Calcule a taxa metabólica basal (TMB) de uma pessoa utilizando a fórmula de Harris-Benedict. O programa deve conter uma função com parametros que receba o sexo, peso, altura e idade. A função deve aplicar a fórmula correspondente ao sexo informado e retornar o valor da TMB\n"
   ]
  },
  {
   "cell_type": "code",
   "execution_count": 58,
   "metadata": {},
   "outputs": [],
   "source": [
    "def TMB(sexo, peso, altura, idade):\n",
    "    \n",
    "    if sexo == 'H':\n",
    "        tbm = 66.5 + (12.75 * peso ) + (5.003 * altura) - (6.755 * idade)\n",
    "        print (f'Você é do sexo masculino, sua TBM é {tbm:.2f}')\n",
    "    else:\n",
    "        tbm = 655.1 + (9.563 * peso) + (1.850 * altura) - (4.676 * idade)\n",
    "        print (f'Você é do sexo feminino, sua TBM é {tbm:.2f}')\n"
   ]
  },
  {
   "cell_type": "code",
   "execution_count": 63,
   "metadata": {},
   "outputs": [
    {
     "name": "stdout",
     "output_type": "stream",
     "text": [
      "Você é do sexo feminino, sua TBM é 1233.84\n"
     ]
    }
   ],
   "source": [
    "genero = input('Digite o sexo (H/M): ')\n",
    "kg = float(input('Digite seu peso em kg: '))\n",
    "alt = float(input('Digite sua altura em cm: '))\n",
    "id = int(input('Qual a sua idade? '))\n",
    "\n",
    "TMB(genero, kg, alt, id)\n"
   ]
  },
  {
   "cell_type": "code",
   "execution_count": null,
   "metadata": {},
   "outputs": [],
   "source": []
  }
 ],
 "metadata": {
  "kernelspec": {
   "display_name": "Python 3",
   "language": "python",
   "name": "python3"
  },
  "language_info": {
   "codemirror_mode": {
    "name": "ipython",
    "version": 3
   },
   "file_extension": ".py",
   "mimetype": "text/x-python",
   "name": "python",
   "nbconvert_exporter": "python",
   "pygments_lexer": "ipython3",
   "version": "3.11.4"
  },
  "orig_nbformat": 4
 },
 "nbformat": 4,
 "nbformat_minor": 2
}
