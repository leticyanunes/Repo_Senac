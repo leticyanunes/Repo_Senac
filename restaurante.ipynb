{
 "cells": [
  {
   "cell_type": "markdown",
   "metadata": {},
   "source": [
    "# Você deverá criar um programa em Python que simule um sistema básico de pedidos. Para isso, será necessário implementar funções que representem as principais ações do restaurante.\n",
    "\n",
    "## Visualizar o cardápio digital.\n",
    "## Registrar os pedidos feitos pelos clientes.\n",
    "## Associar cada pedido à mesa e ao garçom responsável.\n",
    "## Gerar um número de pedido para que o cliente possa realizar o pagamento no caixa."
   ]
  },
  {
   "cell_type": "code",
   "execution_count": 33,
   "metadata": {},
   "outputs": [],
   "source": [
    "# Função para exibir o cardápio. Deve mostrar os pratos disponíveis, suas descrições e respectivos preços.\n",
    "\n",
    "def cardapio ():\n",
    "\n",
    "    print('\\n---- Entradas e Petiscos: ----\\n')\n",
    "    print(' Sunomono - R$ 12,90\\n Salada refrescante de pepino em fatias finas, temperada com molho agridoce')\n",
    "    print('\\n Guioza (6 unidades) - R$ 24,90\\n Pasteizinhos japoneses recheados com carne suína e legumes, grelhados')\n",
    "    print('\\n Missoshiru - R$ 9,90\\nTradicional sopa de missô com tofu, cebolinha e algas')\n",
    "    \n",
    "    print('\\n---- Sushis e Sashimis: ----\\n')\n",
    "    print(' Combinado 12 peças - R$ 39,90\\n 4 sushis de salmão, 4 sushis de atum e 4 sashimis de salmão')\n",
    "    print('\\n Sashimi de Salmão (5 fatias) - R$ 29,90\\n Fatias finas de salmão cru, fresquinho')\n",
    "    print('\\n Sushi de Atum (2 unidades) - R$ 14,90\\n Arroz japonês com fatias de atum fresco')\n",
    "\n",
    "    print('\\n---- Temakis ----\\n')\n",
    "    print(' Temaki de Salmão com Cream Cheese - R$ 26,90\\n Cone de alga recheado com arroz, salmão em cubos e cream cheese')\n",
    "    print('\\n Temaki Califórnia - R$ 22,90\\n Cone de alga com arroz, kani, manga e cream cheese')\n",
    "    print('\\n Temaki de Camarão Empanado - R$ 29,90\\n Cone de alga com arroz, camarão empanado crocante e molho tarê')\n",
    "\n",
    "    print('\\n---- Pratos Quentes ----\\n')\n",
    "    print(' Yakisoba Tradicional - R$ 34,90\\n Macarrão oriental frito com carne bovina, frango e legumes')\n",
    "    print('\\n Karaage - R$ 28,90\\n Frango crocante frito no estilo japonês, servido com molho especial.')\n",
    "    print('\\n Lamen Tradicional - R$ 39,90\\n Macarrão japonês em caldo quente, com ovo cozido, legumes, algas e carne suína')\n",
    "\n",
    "    print('\\n---- Sobremesas ----\\n')\n",
    "    print(' Mochi (2 unidades) - R$ 16,90\\n Bolinho de arroz japonês recheado com sorvete (sabores variados)')\n",
    "    print('\\n Dorayaki - R$ 18,90\\n Panqueca japonesa recheada com doce de feijão azuki ou chocolate.')\n",
    "    print('\\n Tempurá de Sorvete - R$ 24,90\\n Sorvete empanado e frito, servido com calda de chocolate.')\n",
    "    print('\\n Cheesecake de Matcha - R$ 22,90\\n Cheesecake com toque especial de chá verde.')\n",
    "\n"
   ]
  },
  {
   "cell_type": "code",
   "execution_count": 34,
   "metadata": {},
   "outputs": [
    {
     "name": "stdout",
     "output_type": "stream",
     "text": [
      "\n",
      "---- Entradas e Petiscos: ----\n",
      "\n",
      " Sunomono - R$ 12,90\n",
      " Salada refrescante de pepino em fatias finas, temperada com molho agridoce\n",
      "\n",
      " Guioza (6 unidades) - R$ 24,90\n",
      " Pasteizinhos japoneses recheados com carne suína e legumes, grelhados\n",
      "\n",
      " Missoshiru - R$ 9,90\n",
      "Tradicional sopa de missô com tofu, cebolinha e algas\n",
      "\n",
      "---- Sushis e Sashimis: ----\n",
      "\n",
      " Combinado 12 peças - R$ 39,90\n",
      " 4 sushis de salmão, 4 sushis de atum e 4 sashimis de salmão\n",
      "\n",
      " Sashimi de Salmão (5 fatias) - R$ 29,90\n",
      " Fatias finas de salmão cru, fresquinho\n",
      "\n",
      " Sushi de Atum (2 unidades) - R$ 14,90\n",
      " Arroz japonês com fatias de atum fresco\n",
      "\n",
      "---- Temakis ----\n",
      "\n",
      " Temaki de Salmão com Cream Cheese - R$ 26,90\n",
      " Cone de alga recheado com arroz, salmão em cubos e cream cheese\n",
      "\n",
      " Temaki Califórnia - R$ 22,90\n",
      " Cone de alga com arroz, kani, manga e cream cheese\n",
      "\n",
      " Temaki de Camarão Empanado - R$ 29,90\n",
      " Cone de alga com arroz, camarão empanado crocante e molho tarê\n",
      "\n",
      "---- Pratos Quentes ----\n",
      "\n",
      " Yakisoba Tradicional - R$ 34,90\n",
      " Macarrão oriental frito com carne bovina, frango e legumes\n",
      "\n",
      " Karaage - R$ 28,90\n",
      " Frango crocante frito no estilo japonês, servido com molho especial.\n",
      "\n",
      " Lamen Tradicional - R$ 39,90\n",
      " Macarrão japonês em caldo quente, com ovo cozido, legumes, algas e carne suína\n",
      "\n",
      "---- Sobremesas ----\n",
      "\n",
      " Mochi (2 unidades) - R$ 16,90\n",
      " Bolinho de arroz japonês recheado com sorvete (sabores variados)\n",
      "\n",
      " Dorayaki - R$ 18,90\n",
      " Panqueca japonesa recheada com doce de feijão azuki ou chocolate.\n",
      "\n",
      " Tempurá de Sorvete - R$ 24,90\n",
      " Sorvete empanado e frito, servido com calda de chocolate.\n",
      "\n",
      " Cheesecake de Matcha - R$ 22,90\n",
      " Cheesecake com toque especial de chá verde.\n"
     ]
    }
   ],
   "source": [
    "cardapio()"
   ]
  },
  {
   "cell_type": "code",
   "execution_count": null,
   "metadata": {},
   "outputs": [],
   "source": [
    "# Função para registrar um pedido. Deve receber como parâmetros: número da mesa, nome do garçom e lista de itens escolhidos.\n",
    "#A função deve calcular o valor total do pedido e gerar um número identificador."
   ]
  },
  {
   "cell_type": "code",
   "execution_count": null,
   "metadata": {},
   "outputs": [],
   "source": []
  }
 ],
 "metadata": {
  "kernelspec": {
   "display_name": "Python 3",
   "language": "python",
   "name": "python3"
  },
  "language_info": {
   "codemirror_mode": {
    "name": "ipython",
    "version": 3
   },
   "file_extension": ".py",
   "mimetype": "text/x-python",
   "name": "python",
   "nbconvert_exporter": "python",
   "pygments_lexer": "ipython3",
   "version": "3.11.4"
  },
  "orig_nbformat": 4
 },
 "nbformat": 4,
 "nbformat_minor": 2
}
