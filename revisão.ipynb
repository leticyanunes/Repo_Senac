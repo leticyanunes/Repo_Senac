{
 "cells": [
  {
   "cell_type": "markdown",
   "metadata": {},
   "source": [
    "# Análise de dados - SENAC RJ\n",
    "\n",
    "## Aula 5\n",
    "\n",
    "## Revisão completa\n"
   ]
  },
  {
   "cell_type": "code",
   "execution_count": 5,
   "metadata": {},
   "outputs": [
    {
     "name": "stdout",
     "output_type": "stream",
     "text": [
      "50\n"
     ]
    }
   ],
   "source": [
    "# Variaveis\n",
    "\n",
    "num1 = 20\n",
    "num2 = 30\n",
    "\n",
    "resultado = num1 + num2\n",
    "print(resultado)"
   ]
  },
  {
   "cell_type": "code",
   "execution_count": 6,
   "metadata": {},
   "outputs": [
    {
     "name": "stdout",
     "output_type": "stream",
     "text": [
      "O resultado de 20 + 30 é 50\n"
     ]
    }
   ],
   "source": [
    "print(f'O resultado de {num1} + {num2} é {resultado}')"
   ]
  },
  {
   "cell_type": "code",
   "execution_count": 11,
   "metadata": {},
   "outputs": [
    {
     "name": "stdout",
     "output_type": "stream",
     "text": [
      "30\n"
     ]
    }
   ],
   "source": [
    "num3 = int(input('Digite o primeiro Nº: '))\n",
    "num4 = int(input('Digite o segundo Nº: '))\n",
    "\n",
    "resultado2 = num3 + num4\n",
    "print(resultado2)"
   ]
  },
  {
   "cell_type": "code",
   "execution_count": 13,
   "metadata": {},
   "outputs": [
    {
     "name": "stdout",
     "output_type": "stream",
     "text": [
      "Aprovado\n"
     ]
    }
   ],
   "source": [
    "#Operadores lógicos\n",
    "\n",
    "b1 = 8.5\n",
    "b2 = 7.5\n",
    "b3 = 8.9\n",
    "b4 = 7.8\n",
    "\n",
    "media = (b1 + b2 + b3 + b4) / 4 \n",
    "\n",
    "if media >= 7:\n",
    "    print('Aprovado')\n",
    "\n",
    "elif media >=5 and media < 7:\n",
    "    print('Recuperação')\n",
    "\n",
    "else:\n",
    "    print('Reprovado')\n",
    "\n"
   ]
  },
  {
   "cell_type": "code",
   "execution_count": 15,
   "metadata": {},
   "outputs": [
    {
     "name": "stdout",
     "output_type": "stream",
     "text": [
      "Digite um número válido!\n"
     ]
    }
   ],
   "source": [
    "\n",
    "try:\n",
    "    num3 = int(input('Digite o primeiro Nº: '))\n",
    "except:\n",
    "    print('Digite um número válido!')\n",
    "        "
   ]
  },
  {
   "cell_type": "code",
   "execution_count": 16,
   "metadata": {},
   "outputs": [
    {
     "name": "stdout",
     "output_type": "stream",
     "text": [
      "Digite um número válido!\n",
      "Digite um número válido!\n"
     ]
    }
   ],
   "source": [
    "#Estrutura de repetição\n",
    "\n",
    "while True: \n",
    "    try:\n",
    "        num3 = int(input('Digite o primeiro Nº: '))\n",
    "        break\n",
    "    except:\n",
    "        print('Digite um número válido!')"
   ]
  },
  {
   "cell_type": "code",
   "execution_count": 17,
   "metadata": {},
   "outputs": [
    {
     "name": "stdout",
     "output_type": "stream",
     "text": [
      "0\n",
      "1\n",
      "2\n",
      "3\n",
      "4\n",
      "5\n"
     ]
    }
   ],
   "source": [
    "#Condicional \n",
    "\n",
    "contador = 0\n",
    "\n",
    "while contador <=5:\n",
    "    print(contador)\n",
    "    contador +=1"
   ]
  },
  {
   "cell_type": "code",
   "execution_count": 20,
   "metadata": {},
   "outputs": [
    {
     "name": "stdout",
     "output_type": "stream",
     "text": [
      "10\n",
      "20\n",
      "30\n",
      "40\n",
      "50\n",
      "60\n",
      "70\n",
      "80\n",
      "90\n",
      "100\n"
     ]
    }
   ],
   "source": [
    "for i in range(10, 101, 10):\n",
    "    print(i)"
   ]
  },
  {
   "cell_type": "code",
   "execution_count": 22,
   "metadata": {},
   "outputs": [
    {
     "name": "stdout",
     "output_type": "stream",
     "text": [
      "<class 'tuple'>\n"
     ]
    }
   ],
   "source": [
    "produtos = ('Fogão' , 'Geladeira') #tupla\n",
    "tipo_dado = type(produtos)\n",
    "print(tipo_dado)\n"
   ]
  },
  {
   "cell_type": "code",
   "execution_count": 28,
   "metadata": {},
   "outputs": [
    {
     "name": "stdout",
     "output_type": "stream",
     "text": [
      "2\n"
     ]
    }
   ],
   "source": [
    "produtos = ['Fogão' , 'Geladeira'] #lista\n",
    "preco = [600, 2500]\n",
    "tipo_dado = type(produtos)\n",
    "print(len(preco)) #conta a quantidade dentro da lista"
   ]
  },
  {
   "cell_type": "code",
   "execution_count": 35,
   "metadata": {},
   "outputs": [
    {
     "name": "stdout",
     "output_type": "stream",
     "text": [
      "O produto Fogão custa R$ 600\n",
      "O produto Geladeira custa R$ 2500\n"
     ]
    }
   ],
   "source": [
    "for i in range(len(produtos)): \n",
    "    print(f'O produto {produtos[i]} custa R$ {preco [i]}')"
   ]
  },
  {
   "cell_type": "code",
   "execution_count": 27,
   "metadata": {},
   "outputs": [
    {
     "name": "stdout",
     "output_type": "stream",
     "text": [
      "4\n"
     ]
    }
   ],
   "source": [
    "nome = 'Joao'\n",
    "idade = 20\n",
    "cpf = 23456789012\n",
    "print(len(nome))"
   ]
  },
  {
   "cell_type": "code",
   "execution_count": 40,
   "metadata": {},
   "outputs": [
    {
     "name": "stdout",
     "output_type": "stream",
     "text": [
      "['Goiaba', 'Queijo', 'Sabão', 'coca', 'ovo']\n"
     ]
    }
   ],
   "source": [
    "lista = ['chocolate', 'maçã', 'ovo', 'Sabão', 'coca', 'ovo']\n",
    "lista[1] = 'Goiaba' #trocar dados\n",
    "lista.insert(2,'Queijo') #adicionar em um indice especifico\n",
    "lista.remove('ovo') #remove a primeira vez que aparece\n",
    "lista.pop(0) #remove de acordo com um indice especifico, se colocar () vazio, apaga o ultimo\n",
    "\n",
    "\n",
    "print(lista)\n",
    "#print(lista[1:4])"
   ]
  },
  {
   "cell_type": "markdown",
   "metadata": {},
   "source": [
    "# Trabalhando com Variáveis"
   ]
  },
  {
   "cell_type": "code",
   "execution_count": 41,
   "metadata": {},
   "outputs": [
    {
     "name": "stdout",
     "output_type": "stream",
     "text": [
      "Leticya, tem 20 anos e mora na cidade Rio de janeiro\n"
     ]
    }
   ],
   "source": [
    "# Crie variáveis para  armazenar nome, idade e cidade. Exiba essas informações usando print.\n",
    "\n",
    "nome = input('Digite seu nome: ')\n",
    "idade = int(input('Digite sua idade(em número): '))\n",
    "cidade = input('Digite sua cidade: ')\n",
    "\n",
    "print(f'{nome}, tem {idade} anos e mora na cidade {cidade}')"
   ]
  },
  {
   "cell_type": "markdown",
   "metadata": {},
   "source": [
    "# Decisões com if"
   ]
  },
  {
   "cell_type": "code",
   "execution_count": 45,
   "metadata": {},
   "outputs": [
    {
     "name": "stdout",
     "output_type": "stream",
     "text": [
      "Maior de idade\n"
     ]
    }
   ],
   "source": [
    "# Peça ao usuário uma idade. Verifique se ele é maior de idade e exiba uma mensagem correspondente.\n",
    "\n",
    "id = int(input('Digite sua idade(em números): '))\n",
    "\n",
    "if id >= 18:\n",
    "    print('Maior de idade')\n",
    "\n",
    "else:\n",
    "    print('Menor de idade')"
   ]
  },
  {
   "cell_type": "markdown",
   "metadata": {},
   "source": [
    "# Laço for básico"
   ]
  },
  {
   "cell_type": "code",
   "execution_count": 51,
   "metadata": {},
   "outputs": [
    {
     "name": "stdout",
     "output_type": "stream",
     "text": [
      "Os números pares são: \n",
      "\n",
      "0\n",
      "2\n",
      "4\n",
      "6\n",
      "8\n",
      "10\n"
     ]
    }
   ],
   "source": [
    "# Exiba os números de 1 a 10 usando for. Exiba apenas os pares.\n",
    "\n",
    "print('Os números pares são: \\n')\n",
    "\n",
    "for i in range(0,11,2):\n",
    "    print(i)"
   ]
  },
  {
   "cell_type": "markdown",
   "metadata": {},
   "source": [
    "# Laço while básico"
   ]
  },
  {
   "cell_type": "code",
   "execution_count": 54,
   "metadata": {},
   "outputs": [
    {
     "name": "stdout",
     "output_type": "stream",
     "text": [
      "0\n",
      "1\n",
      "2\n",
      "3\n",
      "4\n",
      "5\n"
     ]
    }
   ],
   "source": [
    "# Crie um contador que vai de 0 a 5 usando while. Exiba cada valor.\n",
    "\n",
    "contador = 0 \n",
    "\n",
    "while contador <=5:\n",
    "    print(contador)\n",
    "    contador += 1"
   ]
  },
  {
   "cell_type": "markdown",
   "metadata": {},
   "source": [
    "# Introdução às Listas"
   ]
  },
  {
   "cell_type": "code",
   "execution_count": 62,
   "metadata": {},
   "outputs": [
    {
     "name": "stdout",
     "output_type": "stream",
     "text": [
      "['banana', 'maçã', 'abacaxi', 'uva', 'manga']\n",
      "A primeira fruta é banana e a última é manga\n"
     ]
    }
   ],
   "source": [
    "# Crie uma lista com 5 frutas. Exiba a lista completa. Mostre apenas a primeira e a última fruta.\n",
    "\n",
    "lista = ['banana', 'maçã', 'abacaxi', 'uva', 'manga']\n",
    "print(lista)\n",
    "print(f'A primeira fruta é {lista[0]} e a última é {lista[-1]}')"
   ]
  },
  {
   "cell_type": "markdown",
   "metadata": {},
   "source": [
    "# Modificando Listas."
   ]
  },
  {
   "cell_type": "code",
   "execution_count": 70,
   "metadata": {},
   "outputs": [
    {
     "name": "stdout",
     "output_type": "stream",
     "text": [
      "['banana', 'maçã', 'abacaxi', 'uva', 'manga']\n",
      "['banana', 'maçã', 'abacaxi', 'uva', 'manga', 'ameixa']\n",
      "['banana', 'maçã', 'abacaxi', 'uva', 'ameixa']\n",
      "['pera', 'maçã', 'abacaxi', 'uva', 'ameixa']\n"
     ]
    }
   ],
   "source": [
    "# Adicione uma fruta à lista. Remova uma fruta da lista. Substitua uma fruta por outra.\n",
    "\n",
    "lista = ['banana', 'maçã', 'abacaxi', 'uva', 'manga']\n",
    "print(lista)\n",
    "lista.append('ameixa')\n",
    "print(lista)\n",
    "lista.remove('manga')\n",
    "print(lista)\n",
    "lista[0] = 'pera'\n",
    "print(lista)\n",
    "\n",
    "\n"
   ]
  },
  {
   "cell_type": "markdown",
   "metadata": {},
   "source": [
    "# Listas e Laços"
   ]
  },
  {
   "cell_type": "code",
   "execution_count": 72,
   "metadata": {},
   "outputs": [
    {
     "name": "stdout",
     "output_type": "stream",
     "text": [
      "Olá! Leticya, seja bem vinda\n",
      "Olá! Sara, seja bem vinda\n",
      "Olá! Lorenna, seja bem vinda\n",
      "Olá! Laryssa, seja bem vinda\n",
      "Olá! Anne, seja bem vinda\n"
     ]
    }
   ],
   "source": [
    "# Crie uma lista com 5 nomes. Use for para exibir cada nome com uma saudação.\n",
    "\n",
    "nomes = ['Leticya', 'Sara', 'Lorenna', 'Laryssa', 'Anne']\n",
    "\n",
    "for i in range(len(nomes)):\n",
    "    print(f'Olá! {nomes[i]}, seja bem vinda') \n"
   ]
  },
  {
   "cell_type": "markdown",
   "metadata": {},
   "source": [
    "# Listas e Decisão"
   ]
  },
  {
   "cell_type": "code",
   "execution_count": null,
   "metadata": {},
   "outputs": [],
   "source": [
    " # Crie uma lista com idades. Use for e if para exibir quem é maior de idade.\n",
    "\n",
    "idades = []"
   ]
  }
 ],
 "metadata": {
  "kernelspec": {
   "display_name": "Python 3",
   "language": "python",
   "name": "python3"
  },
  "language_info": {
   "codemirror_mode": {
    "name": "ipython",
    "version": 3
   },
   "file_extension": ".py",
   "mimetype": "text/x-python",
   "name": "python",
   "nbconvert_exporter": "python",
   "pygments_lexer": "ipython3",
   "version": "3.11.4"
  },
  "orig_nbformat": 4
 },
 "nbformat": 4,
 "nbformat_minor": 2
}
