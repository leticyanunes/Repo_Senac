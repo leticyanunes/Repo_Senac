{
 "cells": [
  {
   "cell_type": "code",
   "execution_count": 1,
   "metadata": {},
   "outputs": [
    {
     "name": "stdout",
     "output_type": "stream",
     "text": [
      "Ola\n"
     ]
    }
   ],
   "source": [
    "print('Ola')"
   ]
  },
  {
   "cell_type": "code",
   "execution_count": null,
   "metadata": {},
   "outputs": [],
   "source": [
    "# dicionario é uma estrutura de dados que armazena pares de chaves e valor. "
   ]
  },
  {
   "cell_type": "code",
   "execution_count": 8,
   "metadata": {},
   "outputs": [
    {
     "name": "stdout",
     "output_type": "stream",
     "text": [
      "{'nome': 'Ana', 'idade': 19, 'nota': 9.0}\n"
     ]
    }
   ],
   "source": [
    "#1 criar um dicionario \n",
    "\n",
    "dados = {}\n",
    "aluno = {'nome': 'Ana', 'idade': 19, 'nota': 9.0}\n",
    "print(aluno)"
   ]
  },
  {
   "cell_type": "code",
   "execution_count": 9,
   "metadata": {},
   "outputs": [
    {
     "name": "stdout",
     "output_type": "stream",
     "text": [
      "Ana\n"
     ]
    }
   ],
   "source": [
    "#2 Acessando valores\n",
    "\n",
    "print(aluno['nome'])"
   ]
  },
  {
   "cell_type": "code",
   "execution_count": 11,
   "metadata": {},
   "outputs": [
    {
     "name": "stdout",
     "output_type": "stream",
     "text": [
      "{'nome': 'Ana', 'idade': 19, 'nota': 9.5, 'turma': '3A'}\n"
     ]
    }
   ],
   "source": [
    "#3 adicionar ou modificar valores\n",
    "\n",
    "aluno['nota'] = 9.5\n",
    "aluno['turma'] = '3A'\n",
    "print(aluno)"
   ]
  },
  {
   "cell_type": "code",
   "execution_count": 12,
   "metadata": {},
   "outputs": [
    {
     "name": "stdout",
     "output_type": "stream",
     "text": [
      "{'nome': 'Ana', 'nota': 9.5, 'turma': '3A'}\n"
     ]
    }
   ],
   "source": [
    "#4 remover itens: \n",
    "\n",
    "del aluno['idade']\n",
    "print(aluno)\n"
   ]
  },
  {
   "cell_type": "code",
   "execution_count": 13,
   "metadata": {},
   "outputs": [
    {
     "name": "stdout",
     "output_type": "stream",
     "text": [
      "dict_keys(['nome', 'nota', 'turma'])\n",
      "dict_values(['Ana', 9.5, '3A'])\n",
      "dict_items([('nome', 'Ana'), ('nota', 9.5), ('turma', '3A')])\n"
     ]
    }
   ],
   "source": [
    "#5 obter apenas chaves, valores ou ambos: \n",
    "\n",
    "print(aluno.keys())\n",
    "print(aluno.values())\n",
    "print(aluno.items())"
   ]
  },
  {
   "cell_type": "code",
   "execution_count": 17,
   "metadata": {},
   "outputs": [
    {
     "name": "stdout",
     "output_type": "stream",
     "text": [
      "Nome encontrado!\n"
     ]
    }
   ],
   "source": [
    "#6 Verificar se uma chave existe \n",
    "\n",
    "if 'nome' in aluno:\n",
    "    print('Nome encontrado!')\n",
    "else:\n",
    "    print('Não encontrado')"
   ]
  },
  {
   "cell_type": "code",
   "execution_count": 18,
   "metadata": {},
   "outputs": [
    {
     "name": "stdout",
     "output_type": "stream",
     "text": [
      "3\n"
     ]
    }
   ],
   "source": [
    "#7 tamanho do dicionario:\n",
    "\n",
    "print(len(aluno))"
   ]
  },
  {
   "cell_type": "code",
   "execution_count": null,
   "metadata": {},
   "outputs": [],
   "source": [
    "#8 limpar o dicionario\n",
    "\n",
    "aluno.clear()"
   ]
  },
  {
   "cell_type": "code",
   "execution_count": null,
   "metadata": {},
   "outputs": [],
   "source": [
    "#9 Copiar o dicionario\n",
    "\n",
    "copia = aluno.copy()"
   ]
  },
  {
   "cell_type": "code",
   "execution_count": 21,
   "metadata": {},
   "outputs": [
    {
     "name": "stdout",
     "output_type": "stream",
     "text": [
      "nome: Ana\n",
      "nota: 9.5\n",
      "turma: 3A\n"
     ]
    }
   ],
   "source": [
    "#10 iterar sobre o dicionario:\n",
    "\n",
    "for chave, valor in aluno.items():\n",
    "    print(f'{chave}: {valor}')"
   ]
  },
  {
   "cell_type": "code",
   "execution_count": 26,
   "metadata": {},
   "outputs": [
    {
     "name": "stdout",
     "output_type": "stream",
     "text": [
      "Ana\n",
      "Chave inexistente\n"
     ]
    }
   ],
   "source": [
    "#11 usar get() para acessar valores com segurança: \n",
    "\n",
    "print(aluno.get('nome', 'Chave inexistente'))\n",
    "print(aluno.get('endereco', 'Chave inexistente'))"
   ]
  },
  {
   "cell_type": "code",
   "execution_count": 27,
   "metadata": {},
   "outputs": [
    {
     "name": "stdout",
     "output_type": "stream",
     "text": [
      "{'nome': 'Ana', 'nota': 10, 'turma': '3A', 'cidade': 'Rio de janeiro'}\n"
     ]
    }
   ],
   "source": [
    "#12 atualizar um dicionario com outro:\n",
    "\n",
    "dados_novos = {'nota': 10, 'cidade': 'Rio de janeiro', }\n",
    "aluno.update(dados_novos)\n",
    "print(aluno)"
   ]
  },
  {
   "cell_type": "code",
   "execution_count": 28,
   "metadata": {},
   "outputs": [],
   "source": [
    "#13 apagar com retorno\n",
    "\n",
    "nota = aluno.pop('nota', 'Chave não encontrada')\n"
   ]
  },
  {
   "cell_type": "markdown",
   "metadata": {},
   "source": [
    "# Você deve criar um programa que simule o cadastro e a consulta de informações de um produto em uma loja."
   ]
  },
  {
   "cell_type": "code",
   "execution_count": 37,
   "metadata": {},
   "outputs": [
    {
     "name": "stdout",
     "output_type": "stream",
     "text": [
      "nome: Mouse\n",
      "preco: 49.9\n",
      "estoque: 25\n",
      "\n",
      "Essa informação não está disponível\n",
      "\n",
      "nome: Mouse\n",
      "preco: 59.9\n",
      "categoria: Informática\n"
     ]
    }
   ],
   "source": [
    "produtos = {'nome': 'Mouse', 'preco': 49.90, 'estoque': 25}\n",
    "for chaves, valores in produtos.items():\n",
    "    print(f'{chaves}: {valores}')\n",
    "\n",
    "consulta = input('Digite qual chave deseja consultar: ')\n",
    "print(produtos.get(consulta, '\\nEssa informação não está disponível\\n'))\n",
    "\n",
    "produtos['categoria'] = 'Informática'\n",
    "produtos['preco'] = 59.90\n",
    "\n",
    "del produtos['estoque']\n",
    "\n",
    "for chaves, valores in produtos.items():\n",
    "    print(f'{chaves}: {valores}')"
   ]
  },
  {
   "cell_type": "markdown",
   "metadata": {},
   "source": [
    "# Crie um dicionário chamado capitais que armazene o nome de 5 estados brasileiros como chave e o nome de suas respectivas capitais como valor. Depois, mostre todas as capitais cadastradas. Permita que o usuário digite o nome de um estado e retorne sua capital"
   ]
  },
  {
   "cell_type": "code",
   "execution_count": 47,
   "metadata": {},
   "outputs": [
    {
     "name": "stdout",
     "output_type": "stream",
     "text": [
      "Capitais:\n",
      "\n",
      "Rio de janeiro\n",
      "Belo Horizonte\n",
      "Curitiba\n",
      "Maceió\n",
      "Rio Branco\n"
     ]
    }
   ],
   "source": [
    "capitais = {'Rio de janeiro': 'Rio de janeiro', 'Minas Gerais': 'Belo Horizonte', 'Paraná': 'Curitiba', 'Alagoas': 'Maceió', 'Acre': 'Rio Branco'}\n",
    "\n",
    "print('Capitais:\\n')\n",
    "for chaves, valores in capitais.items():\n",
    "    print(f'{valores}')\n",
    "\n",
    "\n",
    "\n"
   ]
  },
  {
   "cell_type": "code",
   "execution_count": 58,
   "metadata": {},
   "outputs": [
    {
     "name": "stdout",
     "output_type": "stream",
     "text": [
      "A capital do estado Acre, é Rio Branco\n"
     ]
    }
   ],
   "source": [
    "estado = input('Digite um estado: ')\n",
    "estados = capitais.get(estado, 'Estado não encontrado')\n",
    "print(f'A capital do estado {estado}, é {estados}')"
   ]
  },
  {
   "cell_type": "code",
   "execution_count": 59,
   "metadata": {},
   "outputs": [
    {
     "name": "stdout",
     "output_type": "stream",
     "text": [
      "{'Produto': ['Fogão'], 'Preço': [600.0]}\n"
     ]
    }
   ],
   "source": [
    "Produtos = {'Produto': [], 'Preço': []}\n",
    "Nome_produto = input('Digite o nome do produto que que deseja cadastrar: ')\n",
    "Valor_produto = float(input(f'Digite o valor do produto {Nome_produto}: '))\n",
    "\n",
    "Produtos['Produto'].append(Nome_produto) #append so funciona em listas\n",
    "Produtos['Preço'].append(Valor_produto)\n",
    "print(Produtos)"
   ]
  },
  {
   "cell_type": "markdown",
   "metadata": {},
   "source": [
    "# Atividade: Biblioteca de Filmes"
   ]
  },
  {
   "cell_type": "code",
   "execution_count": 68,
   "metadata": {},
   "outputs": [
    {
     "name": "stdout",
     "output_type": "stream",
     "text": [
      "\n",
      "--------- MENU ----------\n",
      "\n",
      "1 - Adicionar filme\n",
      "2 - Remover filme\n",
      "3 - Ver filmes de um usuário\n",
      "4 - Ver todos os usuários\n",
      "0 - sair\n",
      "Escolha: 1\n",
      "Nome de usuário: Leticya\n",
      "Nome do filme: Matrix\n",
      "Filme adicionado com sucesso\n",
      "Número inválido\n",
      "Número inválido\n"
     ]
    },
    {
     "ename": "ValueError",
     "evalue": "invalid literal for int() with base 10: ''",
     "output_type": "error",
     "traceback": [
      "\u001b[31m---------------------------------------------------------------------------\u001b[39m",
      "\u001b[31mValueError\u001b[39m                                Traceback (most recent call last)",
      "\u001b[36mCell\u001b[39m\u001b[36m \u001b[39m\u001b[32mIn[68]\u001b[39m\u001b[32m, line 15\u001b[39m\n\u001b[32m     10\u001b[39m \u001b[38;5;28mprint\u001b[39m(\u001b[33m'\u001b[39m\u001b[33m0 - sair\u001b[39m\u001b[33m'\u001b[39m)\n\u001b[32m     14\u001b[39m \u001b[38;5;28;01mwhile\u001b[39;00m \u001b[38;5;28;01mTrue\u001b[39;00m:\n\u001b[32m---> \u001b[39m\u001b[32m15\u001b[39m     opcao = \u001b[38;5;28;43mint\u001b[39;49m\u001b[43m(\u001b[49m\u001b[38;5;28;43minput\u001b[39;49m\u001b[43m(\u001b[49m\u001b[33;43m'\u001b[39;49m\u001b[33;43mDigite um número: \u001b[39;49m\u001b[33;43m'\u001b[39;49m\u001b[43m)\u001b[49m\u001b[43m)\u001b[49m\n\u001b[32m     17\u001b[39m     \u001b[38;5;28;01mtry\u001b[39;00m:\n\u001b[32m     18\u001b[39m         \u001b[38;5;28;01mmatch\u001b[39;00m opcao:\n",
      "\u001b[31mValueError\u001b[39m: invalid literal for int() with base 10: ''"
     ]
    }
   ],
   "source": [
    "# Criar um sistema de cadastro e consulta de filmes assistidos por diferentes usuários.\n",
    "\n",
    "usuarios_filmes = {'Sara': ['Invocação do mal 2'], 'Leticya': ['Imagine eu e você'], 'Duda': ['Bacurau'], 'Giuliana': ['Lisa Frankestein'], 'Brenda': ['Perfume da memória'], 'Giovanna': ['Marley e eu'], 'Nicoli': ['Enrolados']}\n",
    "\n",
    "print('\\n--------- MENU ----------\\n')\n",
    "print('1 - Adicionar filme')\n",
    "print('2 - Remover filme')\n",
    "print('3 - Ver filmes de um usuário')\n",
    "print('4 - Ver todos os usuários')\n",
    "print('0 - sair')\n",
    "\n",
    "\n",
    "\n",
    "while True:\n",
    "    opcao = int(input('Digite um número: '))\n",
    "\n",
    "    try:\n",
    "        match opcao:\n",
    "            case 1:\n",
    "                usuario = input('Em qual usuário deseja adicionar?  ')\n",
    "                filme = input('Qual filme deseja adicionar? ')\n",
    "                if usuario in usuarios_filmes:\n",
    "                 usuarios_filmes[usuario].append(filme)\n",
    "                else:\n",
    "                    usuarios_filmes[usuario] = []\n",
    "                    usuarios_filmes[usuario].append(filme)\n",
    "\n",
    "                print('Escolha: 1')\n",
    "                print(f'Nome de usuário: {usuario}')\n",
    "                print(f'Nome do filme: {filme}')\n",
    "                print('Filme adicionado com sucesso')\n",
    "        \n",
    "            case 2:\n",
    "                usuario = input('Em qual usuário deseja remover?  ')\n",
    "                if usuario in usuarios_filmes:\n",
    "                    filme = input('Qual filme deseja remover? ')\n",
    "                    if filme in usuarios_filmes(filme):\n",
    "                        usuarios_filmes[usuario].remove(filme)\n",
    "                        \n",
    "                    else:\n",
    "                        print('Esse filme não está na lista')\n",
    "                else:\n",
    "                    print('Usuário não cadastrado')\n",
    "                    \n",
    "                print('Escolh: 2')\n",
    "                print(f'Nome do usuário: {usuario} ')\n",
    "                print(f'Nome do filme: {filme}')\n",
    "                print('Filme removido com sucesso')\n",
    "                \n",
    "    except:\n",
    "        print('Número inválido')\n",
    "\n",
    "    \n",
    "        \n",
    "        \n",
    "\n",
    "\n",
    "            \n",
    "\n",
    "\n",
    "\n",
    "\n",
    "\n",
    "\n",
    "\n",
    "\n"
   ]
  },
  {
   "cell_type": "code",
   "execution_count": null,
   "metadata": {},
   "outputs": [],
   "source": []
  }
 ],
 "metadata": {
  "kernelspec": {
   "display_name": "Python 3",
   "language": "python",
   "name": "python3"
  },
  "language_info": {
   "codemirror_mode": {
    "name": "ipython",
    "version": 3
   },
   "file_extension": ".py",
   "mimetype": "text/x-python",
   "name": "python",
   "nbconvert_exporter": "python",
   "pygments_lexer": "ipython3",
   "version": "3.11.4"
  },
  "orig_nbformat": 4
 },
 "nbformat": 4,
 "nbformat_minor": 2
}
